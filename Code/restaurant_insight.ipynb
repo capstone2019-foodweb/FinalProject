{
 "cells": [
  {
   "cell_type": "markdown",
   "metadata": {},
   "source": [
    "DOHMH New York City Restaurant Inspection"
   ]
  },
  {
   "cell_type": "code",
   "execution_count": 219,
   "metadata": {},
   "outputs": [],
   "source": [
    "import pandas as pd\n",
    "import numpy as np\n",
    "import os\n",
    "import matplotlib.pyplot as plt\n",
    "import seaborn as sns\n",
    "import choroplethNYC as cp\n",
    "import geopandas as gpd\n",
    "from geopandas import GeoDataFrame\n",
    "import matplotlib.ticker as mtick\n",
    "from matplotlib import rcParams\n",
    "%matplotlib inline"
   ]
  },
  {
   "cell_type": "code",
   "execution_count": 41,
   "metadata": {},
   "outputs": [
    {
     "name": "stdout",
     "output_type": "stream",
     "text": [
      "  % Total    % Received % Xferd  Average Speed   Time    Time     Time  Current\n",
      "                                 Dload  Upload   Total   Spent    Left  Speed\n",
      "100  133M    0  133M    0     0  5038k      0 --:--:--  0:00:27 --:--:-- 5172k\n"
     ]
    }
   ],
   "source": [
    "!curl https://data.cityofnewyork.us/api/views/43nn-pn8j/rows.csv?accessType=DOWNLOAD > rest_inspect.csv"
   ]
  },
  {
   "cell_type": "code",
   "execution_count": 2,
   "metadata": {},
   "outputs": [
    {
     "name": "stderr",
     "output_type": "stream",
     "text": [
      "/usr/local/Anaconda3-5.0.0-Linux-x86_64/envs/PUI2016_Python3/lib/python3.5/site-packages/IPython/core/interactiveshell.py:2717: DtypeWarning: Columns (6) have mixed types. Specify dtype option on import or set low_memory=False.\n",
      "  interactivity=interactivity, compiler=compiler, result=result)\n"
     ]
    }
   ],
   "source": [
    "df = pd.read_csv(\"rest_inspect.csv\")"
   ]
  },
  {
   "cell_type": "code",
   "execution_count": 3,
   "metadata": {},
   "outputs": [],
   "source": [
    "df = df.dropna(subset=['ZIPCODE','SCORE'])"
   ]
  },
  {
   "cell_type": "code",
   "execution_count": 4,
   "metadata": {},
   "outputs": [],
   "source": [
    "df['ZIPCODE'] = df['ZIPCODE'].astype('int64')"
   ]
  },
  {
   "cell_type": "code",
   "execution_count": 6,
   "metadata": {},
   "outputs": [
    {
     "data": {
      "text/plain": [
       "(360472, 18)"
      ]
     },
     "execution_count": 6,
     "metadata": {},
     "output_type": "execute_result"
    }
   ],
   "source": [
    "df.shape"
   ]
  },
  {
   "cell_type": "code",
   "execution_count": 7,
   "metadata": {},
   "outputs": [
    {
     "data": {
      "text/plain": [
       "Index(['CAMIS', 'DBA', 'BORO', 'BUILDING', 'STREET', 'ZIPCODE', 'PHONE',\n",
       "       'CUISINE DESCRIPTION', 'INSPECTION DATE', 'ACTION', 'VIOLATION CODE',\n",
       "       'VIOLATION DESCRIPTION', 'CRITICAL FLAG', 'SCORE', 'GRADE',\n",
       "       'GRADE DATE', 'RECORD DATE', 'INSPECTION TYPE'],\n",
       "      dtype='object')"
      ]
     },
     "execution_count": 7,
     "metadata": {},
     "output_type": "execute_result"
    }
   ],
   "source": [
    "df.columns"
   ]
  },
  {
   "cell_type": "code",
   "execution_count": 8,
   "metadata": {},
   "outputs": [
    {
     "data": {
      "text/html": [
       "<div>\n",
       "<table border=\"1\" class=\"dataframe\">\n",
       "  <thead>\n",
       "    <tr style=\"text-align: right;\">\n",
       "      <th></th>\n",
       "      <th>Total</th>\n",
       "      <th>Percent</th>\n",
       "    </tr>\n",
       "  </thead>\n",
       "  <tbody>\n",
       "    <tr>\n",
       "      <th>GRADE DATE</th>\n",
       "      <td>172631</td>\n",
       "      <td>47.890266</td>\n",
       "    </tr>\n",
       "    <tr>\n",
       "      <th>GRADE</th>\n",
       "      <td>170082</td>\n",
       "      <td>47.183138</td>\n",
       "    </tr>\n",
       "    <tr>\n",
       "      <th>VIOLATION DESCRIPTION</th>\n",
       "      <td>2332</td>\n",
       "      <td>0.646930</td>\n",
       "    </tr>\n",
       "    <tr>\n",
       "      <th>VIOLATION CODE</th>\n",
       "      <td>1449</td>\n",
       "      <td>0.401973</td>\n",
       "    </tr>\n",
       "    <tr>\n",
       "      <th>BUILDING</th>\n",
       "      <td>216</td>\n",
       "      <td>0.059921</td>\n",
       "    </tr>\n",
       "    <tr>\n",
       "      <th>PHONE</th>\n",
       "      <td>23</td>\n",
       "      <td>0.006381</td>\n",
       "    </tr>\n",
       "    <tr>\n",
       "      <th>INSPECTION TYPE</th>\n",
       "      <td>0</td>\n",
       "      <td>0.000000</td>\n",
       "    </tr>\n",
       "    <tr>\n",
       "      <th>DBA</th>\n",
       "      <td>0</td>\n",
       "      <td>0.000000</td>\n",
       "    </tr>\n",
       "    <tr>\n",
       "      <th>BORO</th>\n",
       "      <td>0</td>\n",
       "      <td>0.000000</td>\n",
       "    </tr>\n",
       "    <tr>\n",
       "      <th>STREET</th>\n",
       "      <td>0</td>\n",
       "      <td>0.000000</td>\n",
       "    </tr>\n",
       "    <tr>\n",
       "      <th>ZIPCODE</th>\n",
       "      <td>0</td>\n",
       "      <td>0.000000</td>\n",
       "    </tr>\n",
       "    <tr>\n",
       "      <th>INSPECTION DATE</th>\n",
       "      <td>0</td>\n",
       "      <td>0.000000</td>\n",
       "    </tr>\n",
       "    <tr>\n",
       "      <th>CUISINE DESCRIPTION</th>\n",
       "      <td>0</td>\n",
       "      <td>0.000000</td>\n",
       "    </tr>\n",
       "    <tr>\n",
       "      <th>RECORD DATE</th>\n",
       "      <td>0</td>\n",
       "      <td>0.000000</td>\n",
       "    </tr>\n",
       "    <tr>\n",
       "      <th>ACTION</th>\n",
       "      <td>0</td>\n",
       "      <td>0.000000</td>\n",
       "    </tr>\n",
       "    <tr>\n",
       "      <th>CRITICAL FLAG</th>\n",
       "      <td>0</td>\n",
       "      <td>0.000000</td>\n",
       "    </tr>\n",
       "    <tr>\n",
       "      <th>SCORE</th>\n",
       "      <td>0</td>\n",
       "      <td>0.000000</td>\n",
       "    </tr>\n",
       "    <tr>\n",
       "      <th>CAMIS</th>\n",
       "      <td>0</td>\n",
       "      <td>0.000000</td>\n",
       "    </tr>\n",
       "  </tbody>\n",
       "</table>\n",
       "</div>"
      ],
      "text/plain": [
       "                        Total    Percent\n",
       "GRADE DATE             172631  47.890266\n",
       "GRADE                  170082  47.183138\n",
       "VIOLATION DESCRIPTION    2332   0.646930\n",
       "VIOLATION CODE           1449   0.401973\n",
       "BUILDING                  216   0.059921\n",
       "PHONE                      23   0.006381\n",
       "INSPECTION TYPE             0   0.000000\n",
       "DBA                         0   0.000000\n",
       "BORO                        0   0.000000\n",
       "STREET                      0   0.000000\n",
       "ZIPCODE                     0   0.000000\n",
       "INSPECTION DATE             0   0.000000\n",
       "CUISINE DESCRIPTION         0   0.000000\n",
       "RECORD DATE                 0   0.000000\n",
       "ACTION                      0   0.000000\n",
       "CRITICAL FLAG               0   0.000000\n",
       "SCORE                       0   0.000000\n",
       "CAMIS                       0   0.000000"
      ]
     },
     "execution_count": 8,
     "metadata": {},
     "output_type": "execute_result"
    }
   ],
   "source": [
    "total = df.isnull().sum().sort_values(ascending = False)\n",
    "percent = (df.isnull().sum()/df.isnull().count()*100).sort_values(ascending = False)\n",
    "missing_data  = pd.concat([total, percent], axis=1, keys=['Total', 'Percent'])\n",
    "missing_data"
   ]
  },
  {
   "cell_type": "markdown",
   "metadata": {},
   "source": [
    "46.9% grade are missing, use the score for analysis instead."
   ]
  },
  {
   "cell_type": "code",
   "execution_count": 9,
   "metadata": {},
   "outputs": [
    {
     "data": {
      "text/plain": [
       "count    360472.000000\n",
       "mean         19.816979\n",
       "std          14.171533\n",
       "min          -1.000000\n",
       "25%          11.000000\n",
       "50%          15.000000\n",
       "75%          25.000000\n",
       "max         156.000000\n",
       "Name: SCORE, dtype: float64"
      ]
     },
     "execution_count": 9,
     "metadata": {},
     "output_type": "execute_result"
    }
   ],
   "source": [
    "df.SCORE.describe()"
   ]
  },
  {
   "cell_type": "code",
   "execution_count": 10,
   "metadata": {},
   "outputs": [
    {
     "data": {
      "text/plain": [
       "A                 150921\n",
       "B                  23941\n",
       "C                   7938\n",
       "Z                   2754\n",
       "Not Yet Graded      2553\n",
       "P                   2276\n",
       "G                      7\n",
       "Name: GRADE, dtype: int64"
      ]
     },
     "execution_count": 10,
     "metadata": {},
     "output_type": "execute_result"
    }
   ],
   "source": [
    "df.GRADE.value_counts()"
   ]
  },
  {
   "cell_type": "code",
   "execution_count": 11,
   "metadata": {},
   "outputs": [],
   "source": [
    "df.drop(df[df['GRADE'] == 'P'].index, inplace=True)\n",
    "df.drop(df[df['GRADE'] == 'G'].index, inplace=True)\n",
    "df.drop(df[df['GRADE'] == 'Z'].index, inplace=True)\n",
    "df.loc[(df['SCORE'] >= 0.0) & (df['SCORE'] <= 13.0), ['GRADE']] = 'A'\n",
    "df.loc[(df['SCORE'] >= 14.0) & (df['SCORE'] <= 27.0), ['GRADE']] = 'B'\n",
    "df.loc[(df['SCORE'] >= 28.0), ['GRADE']] = 'C'"
   ]
  },
  {
   "cell_type": "code",
   "execution_count": 12,
   "metadata": {},
   "outputs": [
    {
     "data": {
      "text/plain": [
       "A    171797\n",
       "B    110379\n",
       "C     73190\n",
       "Name: GRADE, dtype: int64"
      ]
     },
     "execution_count": 12,
     "metadata": {},
     "output_type": "execute_result"
    }
   ],
   "source": [
    "df.GRADE.value_counts()"
   ]
  },
  {
   "cell_type": "code",
   "execution_count": 13,
   "metadata": {},
   "outputs": [
    {
     "data": {
      "text/plain": [
       "MANHATTAN        140930\n",
       "BROOKLYN          89966\n",
       "QUEENS            80263\n",
       "BRONX             31674\n",
       "STATEN ISLAND     12459\n",
       "Missing             143\n",
       "Name: BORO, dtype: int64"
      ]
     },
     "execution_count": 13,
     "metadata": {},
     "output_type": "execute_result"
    }
   ],
   "source": [
    "df.BORO.value_counts()"
   ]
  },
  {
   "cell_type": "code",
   "execution_count": 14,
   "metadata": {},
   "outputs": [],
   "source": [
    "df.loc[df['ZIPCODE'] == 11249.0,['BORO']] = 'BROOKLYN'\n",
    "df.loc[df['ZIPCODE'] == 10270.0,['BORO']] = 'MANHATTAN'\n",
    "df.loc[df['ZIPCODE'] == 10281.0,['BORO']] = 'MANHATTAN'\n",
    "df.loc[df['ZIPCODE'] == 10168.0,['BORO']] = 'MANHATTAN'\n",
    "df.loc[df['ZIPCODE'] == 10285.0,['BORO']] = 'MANHATTAN'"
   ]
  },
  {
   "cell_type": "code",
   "execution_count": 15,
   "metadata": {},
   "outputs": [
    {
     "data": {
      "text/plain": [
       "MANHATTAN        140973\n",
       "BROOKLYN          90066\n",
       "QUEENS            80263\n",
       "BRONX             31674\n",
       "STATEN ISLAND     12459\n",
       "Name: BORO, dtype: int64"
      ]
     },
     "execution_count": 15,
     "metadata": {},
     "output_type": "execute_result"
    }
   ],
   "source": [
    "df.BORO.value_counts()"
   ]
  },
  {
   "cell_type": "code",
   "execution_count": 16,
   "metadata": {},
   "outputs": [
    {
     "data": {
      "text/plain": [
       "Text(0.5,0,'Score')"
      ]
     },
     "execution_count": 16,
     "metadata": {},
     "output_type": "execute_result"
    },
    {
     "name": "stderr",
     "output_type": "stream",
     "text": [
      "/usr/local/Anaconda3-5.0.0-Linux-x86_64/envs/PUI2016_Python3/lib/python3.5/site-packages/matplotlib/font_manager.py:1316: UserWarning: findfont: Font family ['sans-serif'] not found. Falling back to DejaVu Sans\n",
      "  (prop.get_family(), self.defaultFamily[fontext]))\n"
     ]
    },
    {
     "data": {
      "image/png": "[encoded data removed]",
      "text/plain": [
       "<matplotlib.figure.Figure at 0x7f1ee7a653c8>"
      ]
     },
     "metadata": {},
     "output_type": "display_data"
    }
   ],
   "source": [
    "df.SCORE.hist(figsize=(10,4))\n",
    "plt.title(\"Boxplot for the Scores\", fontsize=15)\n",
    "plt.xlabel('Score', fontsize = 12)\n"
   ]
  },
  {
   "cell_type": "markdown",
   "metadata": {},
   "source": [
    "#### Score insight"
   ]
  },
  {
   "cell_type": "code",
   "execution_count": 64,
   "metadata": {},
   "outputs": [],
   "source": [
    "df['GRADE DATE'] = pd.to_datetime(df['GRADE DATE'])"
   ]
  },
  {
   "cell_type": "code",
   "execution_count": 74,
   "metadata": {},
   "outputs": [],
   "source": [
    "uniquedf = df.drop_duplicates(subset=['CAMIS','GRADE DATE'])"
   ]
  },
  {
   "cell_type": "code",
   "execution_count": 230,
   "metadata": {},
   "outputs": [
    {
     "data": {
      "text/plain": [
       "Text(0,0.5,'Percentage(%)')"
      ]
     },
     "execution_count": 230,
     "metadata": {},
     "output_type": "execute_result"
    },
    {
     "name": "stderr",
     "output_type": "stream",
     "text": [
      "/usr/local/Anaconda3-5.0.0-Linux-x86_64/envs/PUI2016_Python3/lib/python3.5/site-packages/matplotlib/font_manager.py:1316: UserWarning: findfont: Font family ['sans-serif'] not found. Falling back to DejaVu Sans\n",
      "  (prop.get_family(), self.defaultFamily[fontext]))\n"
     ]
    },
    {
     "data": {
      "image/png": "[encoded data removed]",
      "text/plain": [
       "<matplotlib.figure.Figure at 0x7f1e902f37f0>"
      ]
     },
     "metadata": {},
     "output_type": "display_data"
    }
   ],
   "source": [
    "fig, ax = plt.subplots()\n",
    "fig.set_size_inches(12, 6)\n",
    "rcParams['patch.force_edgecolor'] = True\n",
    "rcParams['patch.facecolor'] = 'b'\n",
    "#sns.set(style=\"white\", palette=\"muted\", color_codes=True)\n",
    "kwargs = dict(hist_kws={'alpha':.6}, kde_kws={'linewidth':2})\n",
    "sns.distplot(uniquedf.SCORE.dropna(),bins=80)\n",
    "plt.title(\"Distribution Plot of the Restaurant Inspection Scores\", fontsize=15)\n",
    "ax.set_xlabel(\"Restaurant Inspection Scores\")\n",
    "ax.set_ylabel(\"Percentage(%)\")"
   ]
  },
  {
   "cell_type": "code",
   "execution_count": 18,
   "metadata": {},
   "outputs": [
    {
     "data": {
      "text/plain": [
       "Text(0.5,1,'Violin plot of the Scores')"
      ]
     },
     "execution_count": 18,
     "metadata": {},
     "output_type": "execute_result"
    },
    {
     "name": "stderr",
     "output_type": "stream",
     "text": [
      "/usr/local/Anaconda3-5.0.0-Linux-x86_64/envs/PUI2016_Python3/lib/python3.5/site-packages/matplotlib/font_manager.py:1316: UserWarning: findfont: Font family ['sans-serif'] not found. Falling back to DejaVu Sans\n",
      "  (prop.get_family(), self.defaultFamily[fontext]))\n"
     ]
    },
    {
     "data": {
      "image/png": "[encoded data removed]",
      "text/plain": [
       "<matplotlib.figure.Figure at 0x7f1ee76169b0>"
      ]
     },
     "metadata": {},
     "output_type": "display_data"
    }
   ],
   "source": [
    "fig, ax = plt.subplots()\n",
    "fig.set_size_inches(15, 4)\n",
    "sns.violinplot(df.SCORE.dropna())\n",
    "plt.title(\"Violin plot of the Scores\", fontsize=15)"
   ]
  },
  {
   "cell_type": "code",
   "execution_count": 20,
   "metadata": {},
   "outputs": [
    {
     "data": {
      "text/plain": [
       "Text(0.5,0,'Grades')"
      ]
     },
     "execution_count": 20,
     "metadata": {},
     "output_type": "execute_result"
    },
    {
     "name": "stderr",
     "output_type": "stream",
     "text": [
      "/usr/local/Anaconda3-5.0.0-Linux-x86_64/envs/PUI2016_Python3/lib/python3.5/site-packages/matplotlib/font_manager.py:1316: UserWarning: findfont: Font family ['sans-serif'] not found. Falling back to DejaVu Sans\n",
      "  (prop.get_family(), self.defaultFamily[fontext]))\n"
     ]
    },
    {
     "data": {
      "image/png": "[encoded data removed]",
      "text/plain": [
       "<matplotlib.figure.Figure at 0x7f9076c496a0>"
      ]
     },
     "metadata": {},
     "output_type": "display_data"
    }
   ],
   "source": [
    "df.GRADE.hist(figsize = (10, 4))\n",
    "plt.title(\"Histogram of the Grades\", fontsize=15)\n",
    "plt.xlabel('Grades', fontsize = 12)"
   ]
  },
  {
   "cell_type": "markdown",
   "metadata": {},
   "source": [
    "#### Borough insight"
   ]
  },
  {
   "cell_type": "code",
   "execution_count": 21,
   "metadata": {},
   "outputs": [
    {
     "data": {
      "text/plain": [
       "Text(0.5,0,'Borough')"
      ]
     },
     "execution_count": 21,
     "metadata": {},
     "output_type": "execute_result"
    },
    {
     "name": "stderr",
     "output_type": "stream",
     "text": [
      "/usr/local/Anaconda3-5.0.0-Linux-x86_64/envs/PUI2016_Python3/lib/python3.5/site-packages/matplotlib/font_manager.py:1316: UserWarning: findfont: Font family ['sans-serif'] not found. Falling back to DejaVu Sans\n",
      "  (prop.get_family(), self.defaultFamily[fontext]))\n"
     ]
    },
    {
     "data": {
      "image/png": "[encoded data removed]",
      "text/plain": [
       "<matplotlib.figure.Figure at 0x7f9076c4e2e8>"
      ]
     },
     "metadata": {},
     "output_type": "display_data"
    }
   ],
   "source": [
    "df.BORO.hist(figsize = (10, 4))\n",
    "plt.title('Boxplot of the count of inspections per Borough', fontsize = 15)\n",
    "plt.xlabel('Borough', fontsize = 12)\n"
   ]
  },
  {
   "cell_type": "code",
   "execution_count": 22,
   "metadata": {},
   "outputs": [
    {
     "data": {
      "text/html": [
       "<div>\n",
       "<table border=\"1\" class=\"dataframe\">\n",
       "  <thead>\n",
       "    <tr style=\"text-align: right;\">\n",
       "      <th>BORO</th>\n",
       "      <th>BRONX</th>\n",
       "      <th>BROOKLYN</th>\n",
       "      <th>MANHATTAN</th>\n",
       "      <th>QUEENS</th>\n",
       "      <th>STATEN ISLAND</th>\n",
       "      <th>All</th>\n",
       "    </tr>\n",
       "    <tr>\n",
       "      <th>GRADE</th>\n",
       "      <th></th>\n",
       "      <th></th>\n",
       "      <th></th>\n",
       "      <th></th>\n",
       "      <th></th>\n",
       "      <th></th>\n",
       "    </tr>\n",
       "  </thead>\n",
       "  <tbody>\n",
       "    <tr>\n",
       "      <th>A</th>\n",
       "      <td>15545</td>\n",
       "      <td>43016</td>\n",
       "      <td>67557</td>\n",
       "      <td>39862</td>\n",
       "      <td>5817</td>\n",
       "      <td>171797</td>\n",
       "    </tr>\n",
       "    <tr>\n",
       "      <th>B</th>\n",
       "      <td>9803</td>\n",
       "      <td>27924</td>\n",
       "      <td>44057</td>\n",
       "      <td>24447</td>\n",
       "      <td>4148</td>\n",
       "      <td>110379</td>\n",
       "    </tr>\n",
       "    <tr>\n",
       "      <th>C</th>\n",
       "      <td>6320</td>\n",
       "      <td>19123</td>\n",
       "      <td>29321</td>\n",
       "      <td>15936</td>\n",
       "      <td>2490</td>\n",
       "      <td>73190</td>\n",
       "    </tr>\n",
       "    <tr>\n",
       "      <th>All</th>\n",
       "      <td>31668</td>\n",
       "      <td>90063</td>\n",
       "      <td>140935</td>\n",
       "      <td>80245</td>\n",
       "      <td>12455</td>\n",
       "      <td>355366</td>\n",
       "    </tr>\n",
       "  </tbody>\n",
       "</table>\n",
       "</div>"
      ],
      "text/plain": [
       "BORO   BRONX  BROOKLYN  MANHATTAN  QUEENS  STATEN ISLAND     All\n",
       "GRADE                                                           \n",
       "A      15545     43016      67557   39862           5817  171797\n",
       "B       9803     27924      44057   24447           4148  110379\n",
       "C       6320     19123      29321   15936           2490   73190\n",
       "All    31668     90063     140935   80245          12455  355366"
      ]
     },
     "execution_count": 22,
     "metadata": {},
     "output_type": "execute_result"
    }
   ],
   "source": [
    "boro_grade = pd.crosstab(df.GRADE, df.BORO, margins = True)\n",
    "boro_grade"
   ]
  },
  {
   "cell_type": "code",
   "execution_count": 132,
   "metadata": {},
   "outputs": [
    {
     "data": {
      "text/plain": [
       "Text(0.5,1,'Grade Distribution by Borough')"
      ]
     },
     "execution_count": 132,
     "metadata": {},
     "output_type": "execute_result"
    },
    {
     "name": "stderr",
     "output_type": "stream",
     "text": [
      "/usr/local/Anaconda3-5.0.0-Linux-x86_64/envs/PUI2016_Python3/lib/python3.5/site-packages/matplotlib/font_manager.py:1316: UserWarning: findfont: Font family ['sans-serif'] not found. Falling back to DejaVu Sans\n",
      "  (prop.get_family(), self.defaultFamily[fontext]))\n"
     ]
    },
    {
     "data": {
      "image/png": "[encoded data removed]",
      "text/plain": [
       "<matplotlib.figure.Figure at 0x7f90348476a0>"
      ]
     },
     "metadata": {},
     "output_type": "display_data"
    }
   ],
   "source": [
    "pd.crosstab(df.BORO, df.GRADE).plot(kind=\"bar\", figsize=(16,8))\n",
    "plt.title('Grade Distribution by Borough', fontsize = 20)"
   ]
  },
  {
   "cell_type": "markdown",
   "metadata": {},
   "source": [
    "The majority of the inspections  are  in A in all the boroughs."
   ]
  },
  {
   "cell_type": "code",
   "execution_count": 33,
   "metadata": {},
   "outputs": [],
   "source": [
    "top_15 = ['American', \n",
    "'Chinese',                                                             \n",
    "'CafÃ©/Coffee/Tea',                                                    \n",
    "'Pizza',                                                               \n",
    "'Latin (Cuban, Dominican, Puerto Rican, South & Central American)',    \n",
    "'Italian',                                                             \n",
    "'Mexican',\n",
    "'Japanese',                                                            \n",
    "'Caribbean',                                                           \n",
    "'Bakery',                                                              \n",
    "'Spanish',                                                             \n",
    "'Pizza/Italian',                                                        \n",
    "'Chicken',                                                              \n",
    "'Indian',                                                               \n",
    "'Delicatessen']"
   ]
  },
  {
   "cell_type": "code",
   "execution_count": 45,
   "metadata": {},
   "outputs": [],
   "source": [
    "top_cuisine = df[df['CUISINE DESCRIPTION'].isin(top_15)]"
   ]
  },
  {
   "cell_type": "code",
   "execution_count": 109,
   "metadata": {},
   "outputs": [],
   "source": [
    "top = top_cuisine[['CUISINE DESCRIPTION','GRADE']]"
   ]
  },
  {
   "cell_type": "code",
   "execution_count": 173,
   "metadata": {},
   "outputs": [],
   "source": [
    "cuisine = pd.crosstab(top_cuisine['CUISINE DESCRIPTION'], top_cuisine.GRADE)"
   ]
  },
  {
   "cell_type": "code",
   "execution_count": 174,
   "metadata": {},
   "outputs": [],
   "source": [
    "cuisine['total'] = cuisine['A'] + cuisine['B'] + cuisine['C']"
   ]
  },
  {
   "cell_type": "code",
   "execution_count": 175,
   "metadata": {},
   "outputs": [],
   "source": [
    "cuisine['A'] = cuisine['A'] / cuisine['total'] *100\n",
    "cuisine['B'] = cuisine['B'] / cuisine['total'] *100\n",
    "cuisine['C'] = cuisine['C'] / cuisine['total'] *100"
   ]
  },
  {
   "cell_type": "code",
   "execution_count": 176,
   "metadata": {},
   "outputs": [],
   "source": [
    "cuisine = cuisine.drop(['total'],axis=1)"
   ]
  },
  {
   "cell_type": "code",
   "execution_count": 177,
   "metadata": {},
   "outputs": [
    {
     "data": {
      "text/html": [
       "<div>\n",
       "<table border=\"1\" class=\"dataframe\">\n",
       "  <thead>\n",
       "    <tr style=\"text-align: right;\">\n",
       "      <th>GRADE</th>\n",
       "      <th>A</th>\n",
       "      <th>B</th>\n",
       "      <th>C</th>\n",
       "    </tr>\n",
       "    <tr>\n",
       "      <th>CUISINE DESCRIPTION</th>\n",
       "      <th></th>\n",
       "      <th></th>\n",
       "      <th></th>\n",
       "    </tr>\n",
       "  </thead>\n",
       "  <tbody>\n",
       "    <tr>\n",
       "      <th>American</th>\n",
       "      <td>52.126030</td>\n",
       "      <td>29.996202</td>\n",
       "      <td>17.877768</td>\n",
       "    </tr>\n",
       "    <tr>\n",
       "      <th>Bakery</th>\n",
       "      <td>48.304929</td>\n",
       "      <td>32.123878</td>\n",
       "      <td>19.571193</td>\n",
       "    </tr>\n",
       "    <tr>\n",
       "      <th>CafÃ©/Coffee/Tea</th>\n",
       "      <td>60.081175</td>\n",
       "      <td>24.274800</td>\n",
       "      <td>15.644025</td>\n",
       "    </tr>\n",
       "    <tr>\n",
       "      <th>Caribbean</th>\n",
       "      <td>39.412094</td>\n",
       "      <td>35.410177</td>\n",
       "      <td>25.177730</td>\n",
       "    </tr>\n",
       "    <tr>\n",
       "      <th>Chicken</th>\n",
       "      <td>52.897521</td>\n",
       "      <td>28.296226</td>\n",
       "      <td>18.806253</td>\n",
       "    </tr>\n",
       "    <tr>\n",
       "      <th>Chinese</th>\n",
       "      <td>44.412798</td>\n",
       "      <td>31.319208</td>\n",
       "      <td>24.267994</td>\n",
       "    </tr>\n",
       "    <tr>\n",
       "      <th>Delicatessen</th>\n",
       "      <td>39.847408</td>\n",
       "      <td>35.044217</td>\n",
       "      <td>25.108375</td>\n",
       "    </tr>\n",
       "    <tr>\n",
       "      <th>Indian</th>\n",
       "      <td>38.360129</td>\n",
       "      <td>31.639871</td>\n",
       "      <td>30.000000</td>\n",
       "    </tr>\n",
       "    <tr>\n",
       "      <th>Italian</th>\n",
       "      <td>49.266520</td>\n",
       "      <td>31.676721</td>\n",
       "      <td>19.056759</td>\n",
       "    </tr>\n",
       "    <tr>\n",
       "      <th>Japanese</th>\n",
       "      <td>45.471743</td>\n",
       "      <td>34.610231</td>\n",
       "      <td>19.918026</td>\n",
       "    </tr>\n",
       "    <tr>\n",
       "      <th>Latin</th>\n",
       "      <td>40.417891</td>\n",
       "      <td>35.187724</td>\n",
       "      <td>24.394385</td>\n",
       "    </tr>\n",
       "    <tr>\n",
       "      <th>Mexican</th>\n",
       "      <td>44.859483</td>\n",
       "      <td>33.427482</td>\n",
       "      <td>21.713035</td>\n",
       "    </tr>\n",
       "    <tr>\n",
       "      <th>Pizza</th>\n",
       "      <td>50.117096</td>\n",
       "      <td>31.191848</td>\n",
       "      <td>18.691056</td>\n",
       "    </tr>\n",
       "    <tr>\n",
       "      <th>Pizza/Italian</th>\n",
       "      <td>43.585859</td>\n",
       "      <td>33.876263</td>\n",
       "      <td>22.537879</td>\n",
       "    </tr>\n",
       "    <tr>\n",
       "      <th>Spanish</th>\n",
       "      <td>38.259656</td>\n",
       "      <td>36.426245</td>\n",
       "      <td>25.314100</td>\n",
       "    </tr>\n",
       "  </tbody>\n",
       "</table>\n",
       "</div>"
      ],
      "text/plain": [
       "GRADE                        A          B          C\n",
       "CUISINE DESCRIPTION                                 \n",
       "American             52.126030  29.996202  17.877768\n",
       "Bakery               48.304929  32.123878  19.571193\n",
       "CafÃ©/Coffee/Tea     60.081175  24.274800  15.644025\n",
       "Caribbean            39.412094  35.410177  25.177730\n",
       "Chicken              52.897521  28.296226  18.806253\n",
       "Chinese              44.412798  31.319208  24.267994\n",
       "Delicatessen         39.847408  35.044217  25.108375\n",
       "Indian               38.360129  31.639871  30.000000\n",
       "Italian              49.266520  31.676721  19.056759\n",
       "Japanese             45.471743  34.610231  19.918026\n",
       "Latin                40.417891  35.187724  24.394385\n",
       "Mexican              44.859483  33.427482  21.713035\n",
       "Pizza                50.117096  31.191848  18.691056\n",
       "Pizza/Italian        43.585859  33.876263  22.537879\n",
       "Spanish              38.259656  36.426245  25.314100"
      ]
     },
     "execution_count": 177,
     "metadata": {},
     "output_type": "execute_result"
    }
   ],
   "source": [
    "cuisine"
   ]
  },
  {
   "cell_type": "code",
   "execution_count": 213,
   "metadata": {},
   "outputs": [
    {
     "name": "stderr",
     "output_type": "stream",
     "text": [
      "/usr/local/Anaconda3-5.0.0-Linux-x86_64/envs/PUI2016_Python3/lib/python3.5/site-packages/matplotlib/font_manager.py:1316: UserWarning: findfont: Font family ['sans-serif'] not found. Falling back to DejaVu Sans\n",
      "  (prop.get_family(), self.defaultFamily[fontext]))\n"
     ]
    },
    {
     "data": {
      "image/png": "[encoded data removed]",
      "text/plain": [
       "<matplotlib.figure.Figure at 0x7f1e907432b0>"
      ]
     },
     "metadata": {},
     "output_type": "display_data"
    }
   ],
   "source": [
    "ax = cuisine.plot.barh(stacked=True, figsize=(10,8), width=0.5,edgecolor='none')\n",
    "ax.legend(bbox_to_anchor=(1,1))\n",
    "fmt = '%.0f%%'\n",
    "xticks = mtick.FormatStrFormatter(fmt)\n",
    "ax.xaxis.set_major_formatter(xticks)\n",
    "ax.set_title(\"Grade Breakdown by Top 15 Cuisine Type\", weight='bold', size=20, y=1.05)\n",
    "ax.set_xlabel(\"% of Total Number of Grade Records\", labelpad=20,weight='bold', size=12, rotation=0)\n",
    "ax.set_ylabel(\"Cuisine Type\", labelpad=0,weight='bold', size=12,rotation=0)\n",
    "ax.yaxis.set_label_coords(-0.08, 1)"
   ]
  },
  {
   "cell_type": "code",
   "execution_count": 129,
   "metadata": {},
   "outputs": [],
   "source": [
    "#top.groupby(['CUISINE DESCRIPTION','GRADE']).size()"
   ]
  },
  {
   "cell_type": "code",
   "execution_count": 46,
   "metadata": {},
   "outputs": [
    {
     "name": "stderr",
     "output_type": "stream",
     "text": [
      "/usr/local/Anaconda3-5.0.0-Linux-x86_64/envs/PUI2016_Python3/lib/python3.5/site-packages/pandas/core/indexing.py:465: SettingWithCopyWarning: \n",
      "A value is trying to be set on a copy of a slice from a DataFrame.\n",
      "Try using .loc[row_indexer,col_indexer] = value instead\n",
      "\n",
      "See the caveats in the documentation: http://pandas.pydata.org/pandas-docs/stable/indexing.html#indexing-view-versus-copy\n",
      "  self.obj[item] = s\n"
     ]
    }
   ],
   "source": [
    "top_cuisine.loc[top_cuisine['CUISINE DESCRIPTION'] == 'Latin (Cuban, Dominican, Puerto Rican, South & Central American)', 'CUISINE DESCRIPTION'] = 'Latin'\n"
   ]
  },
  {
   "cell_type": "code",
   "execution_count": 214,
   "metadata": {
    "scrolled": false
   },
   "outputs": [],
   "source": [
    "#pd.crosstab(top_cuisine['CUISINE DESCRIPTION'], top_cuisine.GRADE).plot(kind=\"bar\", fontsize = 20,figsize=(20,10))\n",
    "#plt.title('Grade Distribution of Top 10 Cuisine Types', fontsize = 20)\n",
    "#plt.xlabel('Cuisine type', fontsize=20)\n",
    "#plt.ylabel('Number of Grade A, B, C',fontsize=20)"
   ]
  },
  {
   "cell_type": "markdown",
   "metadata": {},
   "source": [
    "violcation density"
   ]
  },
  {
   "cell_type": "code",
   "execution_count": 133,
   "metadata": {},
   "outputs": [
    {
     "data": {
      "text/plain": [
       "Text(0.5,1,'Violcation type by Borough')"
      ]
     },
     "execution_count": 133,
     "metadata": {},
     "output_type": "execute_result"
    },
    {
     "name": "stderr",
     "output_type": "stream",
     "text": [
      "/usr/local/Anaconda3-5.0.0-Linux-x86_64/envs/PUI2016_Python3/lib/python3.5/site-packages/matplotlib/font_manager.py:1316: UserWarning: findfont: Font family ['sans-serif'] not found. Falling back to DejaVu Sans\n",
      "  (prop.get_family(), self.defaultFamily[fontext]))\n"
     ]
    },
    {
     "data": {
      "image/png": "[encoded data removed]",
      "text/plain": [
       "<matplotlib.figure.Figure at 0x7f90344f6278>"
      ]
     },
     "metadata": {},
     "output_type": "display_data"
    }
   ],
   "source": [
    "pd.crosstab(df.BORO,df['VIOLATION CODE']).plot(kind=\"bar\",figsize=(20,10),stacked=True,legend=False)\n",
    "plt.title('Violcation type by Borough', fontsize = 20)"
   ]
  },
  {
   "cell_type": "markdown",
   "metadata": {},
   "source": [
    "### below sections are not ready for the report/pre"
   ]
  },
  {
   "cell_type": "code",
   "execution_count": 123,
   "metadata": {},
   "outputs": [],
   "source": [
    "df.to_csv('clean_inspection.csv')"
   ]
  },
  {
   "cell_type": "code",
   "execution_count": 120,
   "metadata": {},
   "outputs": [
    {
     "data": {
      "text/html": [
       "<div>\n",
       "<table border=\"1\" class=\"dataframe\">\n",
       "  <thead>\n",
       "    <tr style=\"text-align: right;\">\n",
       "      <th></th>\n",
       "      <th>CAMIS</th>\n",
       "      <th>DBA</th>\n",
       "      <th>BORO</th>\n",
       "      <th>BUILDING</th>\n",
       "      <th>STREET</th>\n",
       "      <th>ZIPCODE</th>\n",
       "      <th>PHONE</th>\n",
       "      <th>CUISINE DESCRIPTION</th>\n",
       "      <th>INSPECTION DATE</th>\n",
       "      <th>ACTION</th>\n",
       "      <th>VIOLATION CODE</th>\n",
       "      <th>VIOLATION DESCRIPTION</th>\n",
       "      <th>CRITICAL FLAG</th>\n",
       "      <th>SCORE</th>\n",
       "      <th>GRADE</th>\n",
       "      <th>GRADE DATE</th>\n",
       "      <th>RECORD DATE</th>\n",
       "      <th>INSPECTION TYPE</th>\n",
       "    </tr>\n",
       "  </thead>\n",
       "  <tbody>\n",
       "    <tr>\n",
       "      <th>0</th>\n",
       "      <td>30075445</td>\n",
       "      <td>MORRIS PARK BAKE SHOP</td>\n",
       "      <td>BRONX</td>\n",
       "      <td>1007</td>\n",
       "      <td>MORRIS PARK AVE</td>\n",
       "      <td>10462</td>\n",
       "      <td>7188924968</td>\n",
       "      <td>Bakery</td>\n",
       "      <td>05/11/2018</td>\n",
       "      <td>Violations were cited in the following area(s).</td>\n",
       "      <td>08C</td>\n",
       "      <td>Pesticide use not in accordance with label or ...</td>\n",
       "      <td>Not Critical</td>\n",
       "      <td>5.0</td>\n",
       "      <td>A</td>\n",
       "      <td>05/11/2018</td>\n",
       "      <td>04/23/2019</td>\n",
       "      <td>Cycle Inspection / Initial Inspection</td>\n",
       "    </tr>\n",
       "    <tr>\n",
       "      <th>1</th>\n",
       "      <td>30075445</td>\n",
       "      <td>MORRIS PARK BAKE SHOP</td>\n",
       "      <td>BRONX</td>\n",
       "      <td>1007</td>\n",
       "      <td>MORRIS PARK AVE</td>\n",
       "      <td>10462</td>\n",
       "      <td>7188924968</td>\n",
       "      <td>Bakery</td>\n",
       "      <td>05/11/2018</td>\n",
       "      <td>Violations were cited in the following area(s).</td>\n",
       "      <td>10F</td>\n",
       "      <td>Non-food contact surface improperly constructe...</td>\n",
       "      <td>Not Critical</td>\n",
       "      <td>5.0</td>\n",
       "      <td>A</td>\n",
       "      <td>05/11/2018</td>\n",
       "      <td>04/23/2019</td>\n",
       "      <td>Cycle Inspection / Initial Inspection</td>\n",
       "    </tr>\n",
       "    <tr>\n",
       "      <th>2</th>\n",
       "      <td>30075445</td>\n",
       "      <td>MORRIS PARK BAKE SHOP</td>\n",
       "      <td>BRONX</td>\n",
       "      <td>1007</td>\n",
       "      <td>MORRIS PARK AVE</td>\n",
       "      <td>10462</td>\n",
       "      <td>7188924968</td>\n",
       "      <td>Bakery</td>\n",
       "      <td>05/18/2017</td>\n",
       "      <td>Violations were cited in the following area(s).</td>\n",
       "      <td>06D</td>\n",
       "      <td>Food contact surface not properly washed, rins...</td>\n",
       "      <td>Critical</td>\n",
       "      <td>7.0</td>\n",
       "      <td>A</td>\n",
       "      <td>05/18/2017</td>\n",
       "      <td>04/23/2019</td>\n",
       "      <td>Cycle Inspection / Initial Inspection</td>\n",
       "    </tr>\n",
       "  </tbody>\n",
       "</table>\n",
       "</div>"
      ],
      "text/plain": [
       "      CAMIS                    DBA   BORO BUILDING           STREET  ZIPCODE  \\\n",
       "0  30075445  MORRIS PARK BAKE SHOP  BRONX     1007  MORRIS PARK AVE    10462   \n",
       "1  30075445  MORRIS PARK BAKE SHOP  BRONX     1007  MORRIS PARK AVE    10462   \n",
       "2  30075445  MORRIS PARK BAKE SHOP  BRONX     1007  MORRIS PARK AVE    10462   \n",
       "\n",
       "        PHONE CUISINE DESCRIPTION INSPECTION DATE  \\\n",
       "0  7188924968              Bakery      05/11/2018   \n",
       "1  7188924968              Bakery      05/11/2018   \n",
       "2  7188924968              Bakery      05/18/2017   \n",
       "\n",
       "                                            ACTION VIOLATION CODE  \\\n",
       "0  Violations were cited in the following area(s).            08C   \n",
       "1  Violations were cited in the following area(s).            10F   \n",
       "2  Violations were cited in the following area(s).            06D   \n",
       "\n",
       "                               VIOLATION DESCRIPTION CRITICAL FLAG  SCORE  \\\n",
       "0  Pesticide use not in accordance with label or ...  Not Critical    5.0   \n",
       "1  Non-food contact surface improperly constructe...  Not Critical    5.0   \n",
       "2  Food contact surface not properly washed, rins...      Critical    7.0   \n",
       "\n",
       "  GRADE  GRADE DATE RECORD DATE                        INSPECTION TYPE  \n",
       "0     A  05/11/2018  04/23/2019  Cycle Inspection / Initial Inspection  \n",
       "1     A  05/11/2018  04/23/2019  Cycle Inspection / Initial Inspection  \n",
       "2     A  05/18/2017  04/23/2019  Cycle Inspection / Initial Inspection  "
      ]
     },
     "execution_count": 120,
     "metadata": {},
     "output_type": "execute_result"
    }
   ],
   "source": [
    "df.head(3)"
   ]
  },
  {
   "cell_type": "code",
   "execution_count": 122,
   "metadata": {},
   "outputs": [
    {
     "data": {
      "text/plain": [
       "CAMIS                    False\n",
       "DBA                      False\n",
       "BORO                     False\n",
       "BUILDING                  True\n",
       "STREET                   False\n",
       "ZIPCODE                  False\n",
       "PHONE                     True\n",
       "CUISINE DESCRIPTION      False\n",
       "INSPECTION DATE          False\n",
       "ACTION                   False\n",
       "VIOLATION CODE            True\n",
       "VIOLATION DESCRIPTION     True\n",
       "CRITICAL FLAG            False\n",
       "SCORE                    False\n",
       "GRADE                     True\n",
       "GRADE DATE                True\n",
       "RECORD DATE              False\n",
       "INSPECTION TYPE          False\n",
       "dtype: bool"
      ]
     },
     "execution_count": 122,
     "metadata": {},
     "output_type": "execute_result"
    }
   ],
   "source": [
    "df.isnull().any()"
   ]
  },
  {
   "cell_type": "code",
   "execution_count": 53,
   "metadata": {},
   "outputs": [],
   "source": [
    "avg_score = df.groupby('ZIPCODE', as_index=False)['SCORE'].mean()"
   ]
  },
  {
   "cell_type": "code",
   "execution_count": 56,
   "metadata": {},
   "outputs": [],
   "source": [
    "df_avg_score = pd.DataFrame(avg_score)"
   ]
  },
  {
   "cell_type": "code",
   "execution_count": 58,
   "metadata": {},
   "outputs": [],
   "source": [
    "zip_score = zipcode.merge(avg_score, on='ZIPCODE')"
   ]
  },
  {
   "cell_type": "code",
   "execution_count": 62,
   "metadata": {},
   "outputs": [
    {
     "data": {
      "text/html": [
       "<div>\n",
       "<table border=\"1\" class=\"dataframe\">\n",
       "  <thead>\n",
       "    <tr style=\"text-align: right;\">\n",
       "      <th></th>\n",
       "      <th>ZIPCODE</th>\n",
       "      <th>stateco</th>\n",
       "      <th>puma</th>\n",
       "      <th>SCORE</th>\n",
       "    </tr>\n",
       "  </thead>\n",
       "  <tbody>\n",
       "    <tr>\n",
       "      <th>0</th>\n",
       "      <td>10451</td>\n",
       "      <td>36005</td>\n",
       "      <td>3710</td>\n",
       "      <td>19.893333</td>\n",
       "    </tr>\n",
       "    <tr>\n",
       "      <th>1</th>\n",
       "      <td>10452</td>\n",
       "      <td>36005</td>\n",
       "      <td>3708</td>\n",
       "      <td>20.062293</td>\n",
       "    </tr>\n",
       "    <tr>\n",
       "      <th>2</th>\n",
       "      <td>10453</td>\n",
       "      <td>36005</td>\n",
       "      <td>3707</td>\n",
       "      <td>19.395302</td>\n",
       "    </tr>\n",
       "    <tr>\n",
       "      <th>3</th>\n",
       "      <td>10454</td>\n",
       "      <td>36005</td>\n",
       "      <td>3710</td>\n",
       "      <td>21.722902</td>\n",
       "    </tr>\n",
       "    <tr>\n",
       "      <th>4</th>\n",
       "      <td>10455</td>\n",
       "      <td>36005</td>\n",
       "      <td>3710</td>\n",
       "      <td>20.229861</td>\n",
       "    </tr>\n",
       "  </tbody>\n",
       "</table>\n",
       "</div>"
      ],
      "text/plain": [
       "   ZIPCODE  stateco  puma      SCORE\n",
       "0    10451    36005  3710  19.893333\n",
       "1    10452    36005  3708  20.062293\n",
       "2    10453    36005  3707  19.395302\n",
       "3    10454    36005  3710  21.722902\n",
       "4    10455    36005  3710  20.229861"
      ]
     },
     "execution_count": 62,
     "metadata": {},
     "output_type": "execute_result"
    }
   ],
   "source": [
    "zip_score.head()"
   ]
  },
  {
   "cell_type": "code",
   "execution_count": 72,
   "metadata": {},
   "outputs": [],
   "source": [
    "zip_gdf = shp.merge(zip_score,on='puma')"
   ]
  },
  {
   "cell_type": "code",
   "execution_count": 74,
   "metadata": {},
   "outputs": [],
   "source": [
    "zip_gdf = zip_gdf.drop_duplicates(subset='ZIPCODE')"
   ]
  },
  {
   "cell_type": "code",
   "execution_count": 76,
   "metadata": {},
   "outputs": [
    {
     "data": {
      "text/html": [
       "<div>\n",
       "<table border=\"1\" class=\"dataframe\">\n",
       "  <thead>\n",
       "    <tr style=\"text-align: right;\">\n",
       "      <th></th>\n",
       "      <th>boro_code</th>\n",
       "      <th>boro_ct201</th>\n",
       "      <th>boro_name</th>\n",
       "      <th>cdeligibil</th>\n",
       "      <th>ct2010</th>\n",
       "      <th>ctlabel</th>\n",
       "      <th>ntacode</th>\n",
       "      <th>ntaname</th>\n",
       "      <th>puma</th>\n",
       "      <th>shape_area</th>\n",
       "      <th>shape_leng</th>\n",
       "      <th>geometry</th>\n",
       "      <th>ZIPCODE</th>\n",
       "      <th>stateco</th>\n",
       "      <th>SCORE</th>\n",
       "    </tr>\n",
       "  </thead>\n",
       "  <tbody>\n",
       "    <tr>\n",
       "      <th>0</th>\n",
       "      <td>5</td>\n",
       "      <td>5000900</td>\n",
       "      <td>Staten Island</td>\n",
       "      <td>I</td>\n",
       "      <td>000900</td>\n",
       "      <td>9</td>\n",
       "      <td>SI22</td>\n",
       "      <td>West New Brighton-New Brighton-St. George</td>\n",
       "      <td>3903</td>\n",
       "      <td>2.497010e+06</td>\n",
       "      <td>7729.016794</td>\n",
       "      <td>POLYGON ((-74.07920577013245 40.64343078374567...</td>\n",
       "      <td>10301</td>\n",
       "      <td>36085</td>\n",
       "      <td>21.602244</td>\n",
       "    </tr>\n",
       "    <tr>\n",
       "      <th>1</th>\n",
       "      <td>5</td>\n",
       "      <td>5000900</td>\n",
       "      <td>Staten Island</td>\n",
       "      <td>I</td>\n",
       "      <td>000900</td>\n",
       "      <td>9</td>\n",
       "      <td>SI22</td>\n",
       "      <td>West New Brighton-New Brighton-St. George</td>\n",
       "      <td>3903</td>\n",
       "      <td>2.497010e+06</td>\n",
       "      <td>7729.016794</td>\n",
       "      <td>POLYGON ((-74.07920577013245 40.64343078374567...</td>\n",
       "      <td>10302</td>\n",
       "      <td>36085</td>\n",
       "      <td>20.544367</td>\n",
       "    </tr>\n",
       "    <tr>\n",
       "      <th>2</th>\n",
       "      <td>5</td>\n",
       "      <td>5000900</td>\n",
       "      <td>Staten Island</td>\n",
       "      <td>I</td>\n",
       "      <td>000900</td>\n",
       "      <td>9</td>\n",
       "      <td>SI22</td>\n",
       "      <td>West New Brighton-New Brighton-St. George</td>\n",
       "      <td>3903</td>\n",
       "      <td>2.497010e+06</td>\n",
       "      <td>7729.016794</td>\n",
       "      <td>POLYGON ((-74.07920577013245 40.64343078374567...</td>\n",
       "      <td>10303</td>\n",
       "      <td>36085</td>\n",
       "      <td>17.846561</td>\n",
       "    </tr>\n",
       "    <tr>\n",
       "      <th>3</th>\n",
       "      <td>5</td>\n",
       "      <td>5000900</td>\n",
       "      <td>Staten Island</td>\n",
       "      <td>I</td>\n",
       "      <td>000900</td>\n",
       "      <td>9</td>\n",
       "      <td>SI22</td>\n",
       "      <td>West New Brighton-New Brighton-St. George</td>\n",
       "      <td>3903</td>\n",
       "      <td>2.497010e+06</td>\n",
       "      <td>7729.016794</td>\n",
       "      <td>POLYGON ((-74.07920577013245 40.64343078374567...</td>\n",
       "      <td>10304</td>\n",
       "      <td>36085</td>\n",
       "      <td>22.816692</td>\n",
       "    </tr>\n",
       "    <tr>\n",
       "      <th>4</th>\n",
       "      <td>5</td>\n",
       "      <td>5000900</td>\n",
       "      <td>Staten Island</td>\n",
       "      <td>I</td>\n",
       "      <td>000900</td>\n",
       "      <td>9</td>\n",
       "      <td>SI22</td>\n",
       "      <td>West New Brighton-New Brighton-St. George</td>\n",
       "      <td>3903</td>\n",
       "      <td>2.497010e+06</td>\n",
       "      <td>7729.016794</td>\n",
       "      <td>POLYGON ((-74.07920577013245 40.64343078374567...</td>\n",
       "      <td>10310</td>\n",
       "      <td>36085</td>\n",
       "      <td>20.855333</td>\n",
       "    </tr>\n",
       "  </tbody>\n",
       "</table>\n",
       "</div>"
      ],
      "text/plain": [
       "  boro_code boro_ct201      boro_name cdeligibil  ct2010 ctlabel ntacode  \\\n",
       "0         5    5000900  Staten Island          I  000900       9    SI22   \n",
       "1         5    5000900  Staten Island          I  000900       9    SI22   \n",
       "2         5    5000900  Staten Island          I  000900       9    SI22   \n",
       "3         5    5000900  Staten Island          I  000900       9    SI22   \n",
       "4         5    5000900  Staten Island          I  000900       9    SI22   \n",
       "\n",
       "                                     ntaname  puma    shape_area   shape_leng  \\\n",
       "0  West New Brighton-New Brighton-St. George  3903  2.497010e+06  7729.016794   \n",
       "1  West New Brighton-New Brighton-St. George  3903  2.497010e+06  7729.016794   \n",
       "2  West New Brighton-New Brighton-St. George  3903  2.497010e+06  7729.016794   \n",
       "3  West New Brighton-New Brighton-St. George  3903  2.497010e+06  7729.016794   \n",
       "4  West New Brighton-New Brighton-St. George  3903  2.497010e+06  7729.016794   \n",
       "\n",
       "                                            geometry  ZIPCODE  stateco  \\\n",
       "0  POLYGON ((-74.07920577013245 40.64343078374567...    10301    36085   \n",
       "1  POLYGON ((-74.07920577013245 40.64343078374567...    10302    36085   \n",
       "2  POLYGON ((-74.07920577013245 40.64343078374567...    10303    36085   \n",
       "3  POLYGON ((-74.07920577013245 40.64343078374567...    10304    36085   \n",
       "4  POLYGON ((-74.07920577013245 40.64343078374567...    10310    36085   \n",
       "\n",
       "       SCORE  \n",
       "0  21.602244  \n",
       "1  20.544367  \n",
       "2  17.846561  \n",
       "3  22.816692  \n",
       "4  20.855333  "
      ]
     },
     "execution_count": 76,
     "metadata": {},
     "output_type": "execute_result"
    }
   ],
   "source": [
    "zip_gdf.head()"
   ]
  },
  {
   "cell_type": "code",
   "execution_count": 26,
   "metadata": {},
   "outputs": [],
   "source": [
    "zipcode = pd.read_excel('nyc_zcta10_to_puma10.xls')"
   ]
  },
  {
   "cell_type": "code",
   "execution_count": 61,
   "metadata": {},
   "outputs": [
    {
     "data": {
      "text/plain": [
       "(211, 3)"
      ]
     },
     "execution_count": 61,
     "metadata": {},
     "output_type": "execute_result"
    }
   ],
   "source": [
    "zipcode.shape"
   ]
  },
  {
   "cell_type": "code",
   "execution_count": 28,
   "metadata": {},
   "outputs": [],
   "source": [
    "zipcode = zipcode[['zcta10','stateco','puma10']]\n",
    "zipcode.rename(columns={'zcta10':'ZIPCODE',\n",
    "                                 'puma10':'puma'},inplace=True)"
   ]
  },
  {
   "cell_type": "code",
   "execution_count": 29,
   "metadata": {},
   "outputs": [],
   "source": [
    "buffer = df.merge(zipcode, on='ZIPCODE')"
   ]
  },
  {
   "cell_type": "code",
   "execution_count": 30,
   "metadata": {},
   "outputs": [
    {
     "data": {
      "text/plain": [
       "(351978, 20)"
      ]
     },
     "execution_count": 30,
     "metadata": {},
     "output_type": "execute_result"
    }
   ],
   "source": [
    "buffer.shape"
   ]
  },
  {
   "cell_type": "code",
   "execution_count": 31,
   "metadata": {},
   "outputs": [
    {
     "data": {
      "text/html": [
       "<div>\n",
       "<table border=\"1\" class=\"dataframe\">\n",
       "  <thead>\n",
       "    <tr style=\"text-align: right;\">\n",
       "      <th></th>\n",
       "      <th>CAMIS</th>\n",
       "      <th>DBA</th>\n",
       "      <th>BORO</th>\n",
       "      <th>BUILDING</th>\n",
       "      <th>STREET</th>\n",
       "      <th>ZIPCODE</th>\n",
       "      <th>PHONE</th>\n",
       "      <th>CUISINE DESCRIPTION</th>\n",
       "      <th>INSPECTION DATE</th>\n",
       "      <th>ACTION</th>\n",
       "      <th>VIOLATION CODE</th>\n",
       "      <th>VIOLATION DESCRIPTION</th>\n",
       "      <th>CRITICAL FLAG</th>\n",
       "      <th>SCORE</th>\n",
       "      <th>GRADE</th>\n",
       "      <th>GRADE DATE</th>\n",
       "      <th>RECORD DATE</th>\n",
       "      <th>INSPECTION TYPE</th>\n",
       "      <th>stateco</th>\n",
       "      <th>puma</th>\n",
       "    </tr>\n",
       "  </thead>\n",
       "  <tbody>\n",
       "    <tr>\n",
       "      <th>0</th>\n",
       "      <td>30075445</td>\n",
       "      <td>MORRIS PARK BAKE SHOP</td>\n",
       "      <td>BRONX</td>\n",
       "      <td>1007</td>\n",
       "      <td>MORRIS PARK AVE</td>\n",
       "      <td>10462</td>\n",
       "      <td>7188924968</td>\n",
       "      <td>Bakery</td>\n",
       "      <td>05/11/2018</td>\n",
       "      <td>Violations were cited in the following area(s).</td>\n",
       "      <td>08C</td>\n",
       "      <td>Pesticide use not in accordance with label or ...</td>\n",
       "      <td>Not Critical</td>\n",
       "      <td>5.0</td>\n",
       "      <td>A</td>\n",
       "      <td>05/11/2018</td>\n",
       "      <td>04/23/2019</td>\n",
       "      <td>Cycle Inspection / Initial Inspection</td>\n",
       "      <td>36005</td>\n",
       "      <td>3709</td>\n",
       "    </tr>\n",
       "    <tr>\n",
       "      <th>1</th>\n",
       "      <td>30075445</td>\n",
       "      <td>MORRIS PARK BAKE SHOP</td>\n",
       "      <td>BRONX</td>\n",
       "      <td>1007</td>\n",
       "      <td>MORRIS PARK AVE</td>\n",
       "      <td>10462</td>\n",
       "      <td>7188924968</td>\n",
       "      <td>Bakery</td>\n",
       "      <td>05/11/2018</td>\n",
       "      <td>Violations were cited in the following area(s).</td>\n",
       "      <td>10F</td>\n",
       "      <td>Non-food contact surface improperly constructe...</td>\n",
       "      <td>Not Critical</td>\n",
       "      <td>5.0</td>\n",
       "      <td>A</td>\n",
       "      <td>05/11/2018</td>\n",
       "      <td>04/23/2019</td>\n",
       "      <td>Cycle Inspection / Initial Inspection</td>\n",
       "      <td>36005</td>\n",
       "      <td>3709</td>\n",
       "    </tr>\n",
       "    <tr>\n",
       "      <th>2</th>\n",
       "      <td>30075445</td>\n",
       "      <td>MORRIS PARK BAKE SHOP</td>\n",
       "      <td>BRONX</td>\n",
       "      <td>1007</td>\n",
       "      <td>MORRIS PARK AVE</td>\n",
       "      <td>10462</td>\n",
       "      <td>7188924968</td>\n",
       "      <td>Bakery</td>\n",
       "      <td>05/18/2017</td>\n",
       "      <td>Violations were cited in the following area(s).</td>\n",
       "      <td>06D</td>\n",
       "      <td>Food contact surface not properly washed, rins...</td>\n",
       "      <td>Critical</td>\n",
       "      <td>7.0</td>\n",
       "      <td>A</td>\n",
       "      <td>05/18/2017</td>\n",
       "      <td>04/23/2019</td>\n",
       "      <td>Cycle Inspection / Initial Inspection</td>\n",
       "      <td>36005</td>\n",
       "      <td>3709</td>\n",
       "    </tr>\n",
       "    <tr>\n",
       "      <th>3</th>\n",
       "      <td>30075445</td>\n",
       "      <td>MORRIS PARK BAKE SHOP</td>\n",
       "      <td>BRONX</td>\n",
       "      <td>1007</td>\n",
       "      <td>MORRIS PARK AVE</td>\n",
       "      <td>10462</td>\n",
       "      <td>7188924968</td>\n",
       "      <td>Bakery</td>\n",
       "      <td>05/18/2017</td>\n",
       "      <td>Violations were cited in the following area(s).</td>\n",
       "      <td>10F</td>\n",
       "      <td>Non-food contact surface improperly constructe...</td>\n",
       "      <td>Not Critical</td>\n",
       "      <td>7.0</td>\n",
       "      <td>A</td>\n",
       "      <td>05/18/2017</td>\n",
       "      <td>04/23/2019</td>\n",
       "      <td>Cycle Inspection / Initial Inspection</td>\n",
       "      <td>36005</td>\n",
       "      <td>3709</td>\n",
       "    </tr>\n",
       "    <tr>\n",
       "      <th>4</th>\n",
       "      <td>30075445</td>\n",
       "      <td>MORRIS PARK BAKE SHOP</td>\n",
       "      <td>BRONX</td>\n",
       "      <td>1007</td>\n",
       "      <td>MORRIS PARK AVE</td>\n",
       "      <td>10462</td>\n",
       "      <td>7188924968</td>\n",
       "      <td>Bakery</td>\n",
       "      <td>02/18/2016</td>\n",
       "      <td>Violations were cited in the following area(s).</td>\n",
       "      <td>04L</td>\n",
       "      <td>Evidence of mice or live mice present in facil...</td>\n",
       "      <td>Critical</td>\n",
       "      <td>10.0</td>\n",
       "      <td>A</td>\n",
       "      <td>02/18/2016</td>\n",
       "      <td>04/23/2019</td>\n",
       "      <td>Cycle Inspection / Initial Inspection</td>\n",
       "      <td>36005</td>\n",
       "      <td>3709</td>\n",
       "    </tr>\n",
       "  </tbody>\n",
       "</table>\n",
       "</div>"
      ],
      "text/plain": [
       "      CAMIS                    DBA   BORO BUILDING           STREET  ZIPCODE  \\\n",
       "0  30075445  MORRIS PARK BAKE SHOP  BRONX     1007  MORRIS PARK AVE    10462   \n",
       "1  30075445  MORRIS PARK BAKE SHOP  BRONX     1007  MORRIS PARK AVE    10462   \n",
       "2  30075445  MORRIS PARK BAKE SHOP  BRONX     1007  MORRIS PARK AVE    10462   \n",
       "3  30075445  MORRIS PARK BAKE SHOP  BRONX     1007  MORRIS PARK AVE    10462   \n",
       "4  30075445  MORRIS PARK BAKE SHOP  BRONX     1007  MORRIS PARK AVE    10462   \n",
       "\n",
       "        PHONE CUISINE DESCRIPTION INSPECTION DATE  \\\n",
       "0  7188924968              Bakery      05/11/2018   \n",
       "1  7188924968              Bakery      05/11/2018   \n",
       "2  7188924968              Bakery      05/18/2017   \n",
       "3  7188924968              Bakery      05/18/2017   \n",
       "4  7188924968              Bakery      02/18/2016   \n",
       "\n",
       "                                            ACTION VIOLATION CODE  \\\n",
       "0  Violations were cited in the following area(s).            08C   \n",
       "1  Violations were cited in the following area(s).            10F   \n",
       "2  Violations were cited in the following area(s).            06D   \n",
       "3  Violations were cited in the following area(s).            10F   \n",
       "4  Violations were cited in the following area(s).            04L   \n",
       "\n",
       "                               VIOLATION DESCRIPTION CRITICAL FLAG  SCORE  \\\n",
       "0  Pesticide use not in accordance with label or ...  Not Critical    5.0   \n",
       "1  Non-food contact surface improperly constructe...  Not Critical    5.0   \n",
       "2  Food contact surface not properly washed, rins...      Critical    7.0   \n",
       "3  Non-food contact surface improperly constructe...  Not Critical    7.0   \n",
       "4  Evidence of mice or live mice present in facil...      Critical   10.0   \n",
       "\n",
       "  GRADE  GRADE DATE RECORD DATE                        INSPECTION TYPE  \\\n",
       "0     A  05/11/2018  04/23/2019  Cycle Inspection / Initial Inspection   \n",
       "1     A  05/11/2018  04/23/2019  Cycle Inspection / Initial Inspection   \n",
       "2     A  05/18/2017  04/23/2019  Cycle Inspection / Initial Inspection   \n",
       "3     A  05/18/2017  04/23/2019  Cycle Inspection / Initial Inspection   \n",
       "4     A  02/18/2016  04/23/2019  Cycle Inspection / Initial Inspection   \n",
       "\n",
       "   stateco  puma  \n",
       "0    36005  3709  \n",
       "1    36005  3709  \n",
       "2    36005  3709  \n",
       "3    36005  3709  \n",
       "4    36005  3709  "
      ]
     },
     "execution_count": 31,
     "metadata": {},
     "output_type": "execute_result"
    }
   ],
   "source": [
    "buffer.head()"
   ]
  },
  {
   "cell_type": "code",
   "execution_count": 32,
   "metadata": {},
   "outputs": [],
   "source": [
    "shp = gpd.read_file('geo_export_6afc03d9-fbf0-45d7-aec8-38c9c8baefa8.shp')"
   ]
  },
  {
   "cell_type": "code",
   "execution_count": 33,
   "metadata": {},
   "outputs": [
    {
     "data": {
      "text/html": [
       "<div>\n",
       "<table border=\"1\" class=\"dataframe\">\n",
       "  <thead>\n",
       "    <tr style=\"text-align: right;\">\n",
       "      <th></th>\n",
       "      <th>boro_code</th>\n",
       "      <th>boro_ct201</th>\n",
       "      <th>boro_name</th>\n",
       "      <th>cdeligibil</th>\n",
       "      <th>ct2010</th>\n",
       "      <th>ctlabel</th>\n",
       "      <th>ntacode</th>\n",
       "      <th>ntaname</th>\n",
       "      <th>puma</th>\n",
       "      <th>shape_area</th>\n",
       "      <th>shape_leng</th>\n",
       "      <th>geometry</th>\n",
       "    </tr>\n",
       "  </thead>\n",
       "  <tbody>\n",
       "    <tr>\n",
       "      <th>0</th>\n",
       "      <td>5</td>\n",
       "      <td>5000900</td>\n",
       "      <td>Staten Island</td>\n",
       "      <td>I</td>\n",
       "      <td>000900</td>\n",
       "      <td>9</td>\n",
       "      <td>SI22</td>\n",
       "      <td>West New Brighton-New Brighton-St. George</td>\n",
       "      <td>3903</td>\n",
       "      <td>2.497010e+06</td>\n",
       "      <td>7729.016794</td>\n",
       "      <td>POLYGON ((-74.07920577013245 40.64343078374567...</td>\n",
       "    </tr>\n",
       "    <tr>\n",
       "      <th>1</th>\n",
       "      <td>1</td>\n",
       "      <td>1009800</td>\n",
       "      <td>Manhattan</td>\n",
       "      <td>I</td>\n",
       "      <td>009800</td>\n",
       "      <td>98</td>\n",
       "      <td>MN19</td>\n",
       "      <td>Turtle Bay-East Midtown</td>\n",
       "      <td>3808</td>\n",
       "      <td>1.906016e+06</td>\n",
       "      <td>5534.199811</td>\n",
       "      <td>POLYGON ((-73.96432543478758 40.75638153099091...</td>\n",
       "    </tr>\n",
       "    <tr>\n",
       "      <th>2</th>\n",
       "      <td>1</td>\n",
       "      <td>1010000</td>\n",
       "      <td>Manhattan</td>\n",
       "      <td>I</td>\n",
       "      <td>010000</td>\n",
       "      <td>100</td>\n",
       "      <td>MN19</td>\n",
       "      <td>Turtle Bay-East Midtown</td>\n",
       "      <td>3808</td>\n",
       "      <td>1.860938e+06</td>\n",
       "      <td>5692.168737</td>\n",
       "      <td>POLYGON ((-73.96802436915851 40.75957814005282...</td>\n",
       "    </tr>\n",
       "    <tr>\n",
       "      <th>3</th>\n",
       "      <td>1</td>\n",
       "      <td>1010200</td>\n",
       "      <td>Manhattan</td>\n",
       "      <td>I</td>\n",
       "      <td>010200</td>\n",
       "      <td>102</td>\n",
       "      <td>MN17</td>\n",
       "      <td>Midtown-Midtown South</td>\n",
       "      <td>3807</td>\n",
       "      <td>1.860993e+06</td>\n",
       "      <td>5687.802439</td>\n",
       "      <td>POLYGON ((-73.97124277307127 40.76093641847906...</td>\n",
       "    </tr>\n",
       "    <tr>\n",
       "      <th>4</th>\n",
       "      <td>1</td>\n",
       "      <td>1010400</td>\n",
       "      <td>Manhattan</td>\n",
       "      <td>I</td>\n",
       "      <td>010400</td>\n",
       "      <td>104</td>\n",
       "      <td>MN17</td>\n",
       "      <td>Midtown-Midtown South</td>\n",
       "      <td>3807</td>\n",
       "      <td>1.864600e+06</td>\n",
       "      <td>5693.036367</td>\n",
       "      <td>POLYGON ((-73.97445730550224 40.76229308352487...</td>\n",
       "    </tr>\n",
       "  </tbody>\n",
       "</table>\n",
       "</div>"
      ],
      "text/plain": [
       "  boro_code boro_ct201      boro_name cdeligibil  ct2010 ctlabel ntacode  \\\n",
       "0         5    5000900  Staten Island          I  000900       9    SI22   \n",
       "1         1    1009800      Manhattan          I  009800      98    MN19   \n",
       "2         1    1010000      Manhattan          I  010000     100    MN19   \n",
       "3         1    1010200      Manhattan          I  010200     102    MN17   \n",
       "4         1    1010400      Manhattan          I  010400     104    MN17   \n",
       "\n",
       "                                     ntaname  puma    shape_area   shape_leng  \\\n",
       "0  West New Brighton-New Brighton-St. George  3903  2.497010e+06  7729.016794   \n",
       "1                    Turtle Bay-East Midtown  3808  1.906016e+06  5534.199811   \n",
       "2                    Turtle Bay-East Midtown  3808  1.860938e+06  5692.168737   \n",
       "3                      Midtown-Midtown South  3807  1.860993e+06  5687.802439   \n",
       "4                      Midtown-Midtown South  3807  1.864600e+06  5693.036367   \n",
       "\n",
       "                                            geometry  \n",
       "0  POLYGON ((-74.07920577013245 40.64343078374567...  \n",
       "1  POLYGON ((-73.96432543478758 40.75638153099091...  \n",
       "2  POLYGON ((-73.96802436915851 40.75957814005282...  \n",
       "3  POLYGON ((-73.97124277307127 40.76093641847906...  \n",
       "4  POLYGON ((-73.97445730550224 40.76229308352487...  "
      ]
     },
     "execution_count": 33,
     "metadata": {},
     "output_type": "execute_result"
    }
   ],
   "source": [
    "shp.head()"
   ]
  },
  {
   "cell_type": "code",
   "execution_count": 34,
   "metadata": {},
   "outputs": [],
   "source": [
    "shp['puma'] = shp['puma'].astype(int)"
   ]
  },
  {
   "cell_type": "code",
   "execution_count": 35,
   "metadata": {},
   "outputs": [],
   "source": [
    "gdf = shp.merge(buffer,on='puma')"
   ]
  },
  {
   "cell_type": "code",
   "execution_count": 36,
   "metadata": {},
   "outputs": [
    {
     "data": {
      "text/html": [
       "<div>\n",
       "<table border=\"1\" class=\"dataframe\">\n",
       "  <thead>\n",
       "    <tr style=\"text-align: right;\">\n",
       "      <th></th>\n",
       "      <th>boro_code</th>\n",
       "      <th>boro_ct201</th>\n",
       "      <th>boro_name</th>\n",
       "      <th>cdeligibil</th>\n",
       "      <th>ct2010</th>\n",
       "      <th>ctlabel</th>\n",
       "      <th>ntacode</th>\n",
       "      <th>ntaname</th>\n",
       "      <th>puma</th>\n",
       "      <th>shape_area</th>\n",
       "      <th>...</th>\n",
       "      <th>ACTION</th>\n",
       "      <th>VIOLATION CODE</th>\n",
       "      <th>VIOLATION DESCRIPTION</th>\n",
       "      <th>CRITICAL FLAG</th>\n",
       "      <th>SCORE</th>\n",
       "      <th>GRADE</th>\n",
       "      <th>GRADE DATE</th>\n",
       "      <th>RECORD DATE</th>\n",
       "      <th>INSPECTION TYPE</th>\n",
       "      <th>stateco</th>\n",
       "    </tr>\n",
       "  </thead>\n",
       "  <tbody>\n",
       "    <tr>\n",
       "      <th>0</th>\n",
       "      <td>5</td>\n",
       "      <td>5000900</td>\n",
       "      <td>Staten Island</td>\n",
       "      <td>I</td>\n",
       "      <td>000900</td>\n",
       "      <td>9</td>\n",
       "      <td>SI22</td>\n",
       "      <td>West New Brighton-New Brighton-St. George</td>\n",
       "      <td>3903</td>\n",
       "      <td>2.497010e+06</td>\n",
       "      <td>...</td>\n",
       "      <td>Violations were cited in the following area(s).</td>\n",
       "      <td>02B</td>\n",
       "      <td>Hot food item not held at or above 140Âº F.</td>\n",
       "      <td>Critical</td>\n",
       "      <td>12.0</td>\n",
       "      <td>A</td>\n",
       "      <td>02/12/2019</td>\n",
       "      <td>04/23/2019</td>\n",
       "      <td>Cycle Inspection / Initial Inspection</td>\n",
       "      <td>36085</td>\n",
       "    </tr>\n",
       "    <tr>\n",
       "      <th>1</th>\n",
       "      <td>5</td>\n",
       "      <td>5000900</td>\n",
       "      <td>Staten Island</td>\n",
       "      <td>I</td>\n",
       "      <td>000900</td>\n",
       "      <td>9</td>\n",
       "      <td>SI22</td>\n",
       "      <td>West New Brighton-New Brighton-St. George</td>\n",
       "      <td>3903</td>\n",
       "      <td>2.497010e+06</td>\n",
       "      <td>...</td>\n",
       "      <td>Violations were cited in the following area(s).</td>\n",
       "      <td>09B</td>\n",
       "      <td>Thawing procedures improper.</td>\n",
       "      <td>Not Critical</td>\n",
       "      <td>12.0</td>\n",
       "      <td>A</td>\n",
       "      <td>02/12/2019</td>\n",
       "      <td>04/23/2019</td>\n",
       "      <td>Cycle Inspection / Initial Inspection</td>\n",
       "      <td>36085</td>\n",
       "    </tr>\n",
       "    <tr>\n",
       "      <th>2</th>\n",
       "      <td>5</td>\n",
       "      <td>5000900</td>\n",
       "      <td>Staten Island</td>\n",
       "      <td>I</td>\n",
       "      <td>000900</td>\n",
       "      <td>9</td>\n",
       "      <td>SI22</td>\n",
       "      <td>West New Brighton-New Brighton-St. George</td>\n",
       "      <td>3903</td>\n",
       "      <td>2.497010e+06</td>\n",
       "      <td>...</td>\n",
       "      <td>Violations were cited in the following area(s).</td>\n",
       "      <td>10F</td>\n",
       "      <td>Non-food contact surface improperly constructe...</td>\n",
       "      <td>Not Critical</td>\n",
       "      <td>12.0</td>\n",
       "      <td>A</td>\n",
       "      <td>02/12/2019</td>\n",
       "      <td>04/23/2019</td>\n",
       "      <td>Cycle Inspection / Initial Inspection</td>\n",
       "      <td>36085</td>\n",
       "    </tr>\n",
       "    <tr>\n",
       "      <th>3</th>\n",
       "      <td>5</td>\n",
       "      <td>5000900</td>\n",
       "      <td>Staten Island</td>\n",
       "      <td>I</td>\n",
       "      <td>000900</td>\n",
       "      <td>9</td>\n",
       "      <td>SI22</td>\n",
       "      <td>West New Brighton-New Brighton-St. George</td>\n",
       "      <td>3903</td>\n",
       "      <td>2.497010e+06</td>\n",
       "      <td>...</td>\n",
       "      <td>Violations were cited in the following area(s).</td>\n",
       "      <td>02G</td>\n",
       "      <td>Cold food item held above 41Âº F (smoked fish ...</td>\n",
       "      <td>Critical</td>\n",
       "      <td>7.0</td>\n",
       "      <td>A</td>\n",
       "      <td>07/03/2018</td>\n",
       "      <td>04/23/2019</td>\n",
       "      <td>Cycle Inspection / Re-inspection</td>\n",
       "      <td>36085</td>\n",
       "    </tr>\n",
       "    <tr>\n",
       "      <th>4</th>\n",
       "      <td>5</td>\n",
       "      <td>5000900</td>\n",
       "      <td>Staten Island</td>\n",
       "      <td>I</td>\n",
       "      <td>000900</td>\n",
       "      <td>9</td>\n",
       "      <td>SI22</td>\n",
       "      <td>West New Brighton-New Brighton-St. George</td>\n",
       "      <td>3903</td>\n",
       "      <td>2.497010e+06</td>\n",
       "      <td>...</td>\n",
       "      <td>Violations were cited in the following area(s).</td>\n",
       "      <td>02G</td>\n",
       "      <td>Cold food item held above 41Âº F (smoked fish ...</td>\n",
       "      <td>Critical</td>\n",
       "      <td>21.0</td>\n",
       "      <td>B</td>\n",
       "      <td>NaN</td>\n",
       "      <td>04/23/2019</td>\n",
       "      <td>Cycle Inspection / Initial Inspection</td>\n",
       "      <td>36085</td>\n",
       "    </tr>\n",
       "  </tbody>\n",
       "</table>\n",
       "<p>5 rows × 31 columns</p>\n",
       "</div>"
      ],
      "text/plain": [
       "  boro_code boro_ct201      boro_name cdeligibil  ct2010 ctlabel ntacode  \\\n",
       "0         5    5000900  Staten Island          I  000900       9    SI22   \n",
       "1         5    5000900  Staten Island          I  000900       9    SI22   \n",
       "2         5    5000900  Staten Island          I  000900       9    SI22   \n",
       "3         5    5000900  Staten Island          I  000900       9    SI22   \n",
       "4         5    5000900  Staten Island          I  000900       9    SI22   \n",
       "\n",
       "                                     ntaname  puma    shape_area   ...    \\\n",
       "0  West New Brighton-New Brighton-St. George  3903  2.497010e+06   ...     \n",
       "1  West New Brighton-New Brighton-St. George  3903  2.497010e+06   ...     \n",
       "2  West New Brighton-New Brighton-St. George  3903  2.497010e+06   ...     \n",
       "3  West New Brighton-New Brighton-St. George  3903  2.497010e+06   ...     \n",
       "4  West New Brighton-New Brighton-St. George  3903  2.497010e+06   ...     \n",
       "\n",
       "                                            ACTION VIOLATION CODE  \\\n",
       "0  Violations were cited in the following area(s).            02B   \n",
       "1  Violations were cited in the following area(s).            09B   \n",
       "2  Violations were cited in the following area(s).            10F   \n",
       "3  Violations were cited in the following area(s).            02G   \n",
       "4  Violations were cited in the following area(s).            02G   \n",
       "\n",
       "                               VIOLATION DESCRIPTION CRITICAL FLAG SCORE  \\\n",
       "0        Hot food item not held at or above 140Âº F.      Critical  12.0   \n",
       "1                       Thawing procedures improper.  Not Critical  12.0   \n",
       "2  Non-food contact surface improperly constructe...  Not Critical  12.0   \n",
       "3  Cold food item held above 41Âº F (smoked fish ...      Critical   7.0   \n",
       "4  Cold food item held above 41Âº F (smoked fish ...      Critical  21.0   \n",
       "\n",
       "  GRADE  GRADE DATE  RECORD DATE                        INSPECTION TYPE  \\\n",
       "0     A  02/12/2019   04/23/2019  Cycle Inspection / Initial Inspection   \n",
       "1     A  02/12/2019   04/23/2019  Cycle Inspection / Initial Inspection   \n",
       "2     A  02/12/2019   04/23/2019  Cycle Inspection / Initial Inspection   \n",
       "3     A  07/03/2018   04/23/2019       Cycle Inspection / Re-inspection   \n",
       "4     B         NaN   04/23/2019  Cycle Inspection / Initial Inspection   \n",
       "\n",
       "  stateco  \n",
       "0   36085  \n",
       "1   36085  \n",
       "2   36085  \n",
       "3   36085  \n",
       "4   36085  \n",
       "\n",
       "[5 rows x 31 columns]"
      ]
     },
     "execution_count": 36,
     "metadata": {},
     "output_type": "execute_result"
    }
   ],
   "source": [
    "gdf.head()"
   ]
  },
  {
   "cell_type": "code",
   "execution_count": 43,
   "metadata": {},
   "outputs": [
    {
     "data": {
      "text/plain": [
       "Index(['boro_code', 'boro_ct201', 'boro_name', 'cdeligibil', 'ct2010',\n",
       "       'ctlabel', 'ntacode', 'ntaname', 'puma', 'shape_area', 'shape_leng',\n",
       "       'geometry', 'CAMIS', 'DBA', 'BORO', 'BUILDING', 'STREET', 'ZIPCODE',\n",
       "       'PHONE', 'CUISINE DESCRIPTION', 'INSPECTION DATE', 'ACTION',\n",
       "       'VIOLATION CODE', 'VIOLATION DESCRIPTION', 'CRITICAL FLAG', 'SCORE',\n",
       "       'GRADE', 'GRADE DATE', 'RECORD DATE', 'INSPECTION TYPE', 'stateco'],\n",
       "      dtype='object')"
      ]
     },
     "execution_count": 43,
     "metadata": {},
     "output_type": "execute_result"
    }
   ],
   "source": [
    "gdf.columns"
   ]
  },
  {
   "cell_type": "code",
   "execution_count": 44,
   "metadata": {},
   "outputs": [
    {
     "data": {
      "text/plain": [
       "(13694734, 31)"
      ]
     },
     "execution_count": 44,
     "metadata": {},
     "output_type": "execute_result"
    }
   ],
   "source": [
    "gdf.shape"
   ]
  },
  {
   "cell_type": "code",
   "execution_count": 86,
   "metadata": {},
   "outputs": [],
   "source": [
    "data1 = gdf.drop_duplicates(subset='CAMIS')"
   ]
  },
  {
   "cell_type": "code",
   "execution_count": 111,
   "metadata": {},
   "outputs": [
    {
     "data": {
      "text/plain": [
       "Index(['boro_code', 'boro_ct201', 'boro_name', 'cdeligibil', 'ct2010',\n",
       "       'ctlabel', 'ntacode', 'ntaname', 'puma', 'shape_area', 'shape_leng',\n",
       "       'geometry', 'CAMIS', 'DBA', 'BORO', 'BUILDING', 'STREET', 'ZIPCODE',\n",
       "       'PHONE', 'CUISINE DESCRIPTION', 'INSPECTION DATE', 'ACTION',\n",
       "       'VIOLATION CODE', 'VIOLATION DESCRIPTION', 'CRITICAL FLAG', 'SCORE',\n",
       "       'GRADE', 'GRADE DATE', 'RECORD DATE', 'INSPECTION TYPE', 'stateco'],\n",
       "      dtype='object')"
      ]
     },
     "execution_count": 111,
     "metadata": {},
     "output_type": "execute_result"
    }
   ],
   "source": [
    "data1.columns"
   ]
  },
  {
   "cell_type": "code",
   "execution_count": 97,
   "metadata": {},
   "outputs": [],
   "source": [
    "avg_score = data1.groupby('ZIPCODE', as_index=False)['SCORE'].mean()"
   ]
  },
  {
   "cell_type": "code",
   "execution_count": 102,
   "metadata": {},
   "outputs": [],
   "source": [
    "avg_score_df = pd.DataFrame(avg_score)"
   ]
  },
  {
   "cell_type": "code",
   "execution_count": 107,
   "metadata": {},
   "outputs": [],
   "source": [
    "avg_score_df.rename(columns={'SCORE':'avg_score'},inplace=True)"
   ]
  },
  {
   "cell_type": "code",
   "execution_count": 108,
   "metadata": {},
   "outputs": [],
   "source": [
    "zip_score = data1.merge(avg_score_df, on='ZIPCODE')"
   ]
  },
  {
   "cell_type": "code",
   "execution_count": 109,
   "metadata": {},
   "outputs": [
    {
     "data": {
      "text/html": [
       "<div>\n",
       "<table border=\"1\" class=\"dataframe\">\n",
       "  <thead>\n",
       "    <tr style=\"text-align: right;\">\n",
       "      <th></th>\n",
       "      <th>boro_code</th>\n",
       "      <th>boro_ct201</th>\n",
       "      <th>boro_name</th>\n",
       "      <th>cdeligibil</th>\n",
       "      <th>ct2010</th>\n",
       "      <th>ctlabel</th>\n",
       "      <th>ntacode</th>\n",
       "      <th>ntaname</th>\n",
       "      <th>puma</th>\n",
       "      <th>shape_area</th>\n",
       "      <th>...</th>\n",
       "      <th>VIOLATION CODE</th>\n",
       "      <th>VIOLATION DESCRIPTION</th>\n",
       "      <th>CRITICAL FLAG</th>\n",
       "      <th>SCORE</th>\n",
       "      <th>GRADE</th>\n",
       "      <th>GRADE DATE</th>\n",
       "      <th>RECORD DATE</th>\n",
       "      <th>INSPECTION TYPE</th>\n",
       "      <th>stateco</th>\n",
       "      <th>avg_score</th>\n",
       "    </tr>\n",
       "  </thead>\n",
       "  <tbody>\n",
       "    <tr>\n",
       "      <th>0</th>\n",
       "      <td>5</td>\n",
       "      <td>5000900</td>\n",
       "      <td>Staten Island</td>\n",
       "      <td>I</td>\n",
       "      <td>000900</td>\n",
       "      <td>9</td>\n",
       "      <td>SI22</td>\n",
       "      <td>West New Brighton-New Brighton-St. George</td>\n",
       "      <td>3903</td>\n",
       "      <td>2.497010e+06</td>\n",
       "      <td>...</td>\n",
       "      <td>02B</td>\n",
       "      <td>Hot food item not held at or above 140Âº F.</td>\n",
       "      <td>Critical</td>\n",
       "      <td>12.0</td>\n",
       "      <td>A</td>\n",
       "      <td>02/12/2019</td>\n",
       "      <td>04/23/2019</td>\n",
       "      <td>Cycle Inspection / Initial Inspection</td>\n",
       "      <td>36085</td>\n",
       "      <td>10.938462</td>\n",
       "    </tr>\n",
       "    <tr>\n",
       "      <th>1</th>\n",
       "      <td>5</td>\n",
       "      <td>5000900</td>\n",
       "      <td>Staten Island</td>\n",
       "      <td>I</td>\n",
       "      <td>000900</td>\n",
       "      <td>9</td>\n",
       "      <td>SI22</td>\n",
       "      <td>West New Brighton-New Brighton-St. George</td>\n",
       "      <td>3903</td>\n",
       "      <td>2.497010e+06</td>\n",
       "      <td>...</td>\n",
       "      <td>04L</td>\n",
       "      <td>Evidence of mice or live mice present in facil...</td>\n",
       "      <td>Critical</td>\n",
       "      <td>18.0</td>\n",
       "      <td>B</td>\n",
       "      <td>NaN</td>\n",
       "      <td>04/23/2019</td>\n",
       "      <td>Cycle Inspection / Initial Inspection</td>\n",
       "      <td>36085</td>\n",
       "      <td>10.938462</td>\n",
       "    </tr>\n",
       "    <tr>\n",
       "      <th>2</th>\n",
       "      <td>5</td>\n",
       "      <td>5000900</td>\n",
       "      <td>Staten Island</td>\n",
       "      <td>I</td>\n",
       "      <td>000900</td>\n",
       "      <td>9</td>\n",
       "      <td>SI22</td>\n",
       "      <td>West New Brighton-New Brighton-St. George</td>\n",
       "      <td>3903</td>\n",
       "      <td>2.497010e+06</td>\n",
       "      <td>...</td>\n",
       "      <td>04L</td>\n",
       "      <td>Evidence of mice or live mice present in facil...</td>\n",
       "      <td>Critical</td>\n",
       "      <td>19.0</td>\n",
       "      <td>B</td>\n",
       "      <td>10/23/2018</td>\n",
       "      <td>04/23/2019</td>\n",
       "      <td>Cycle Inspection / Re-inspection</td>\n",
       "      <td>36085</td>\n",
       "      <td>10.938462</td>\n",
       "    </tr>\n",
       "    <tr>\n",
       "      <th>3</th>\n",
       "      <td>5</td>\n",
       "      <td>5000900</td>\n",
       "      <td>Staten Island</td>\n",
       "      <td>I</td>\n",
       "      <td>000900</td>\n",
       "      <td>9</td>\n",
       "      <td>SI22</td>\n",
       "      <td>West New Brighton-New Brighton-St. George</td>\n",
       "      <td>3903</td>\n",
       "      <td>2.497010e+06</td>\n",
       "      <td>...</td>\n",
       "      <td>04L</td>\n",
       "      <td>Evidence of mice or live mice present in facil...</td>\n",
       "      <td>Critical</td>\n",
       "      <td>12.0</td>\n",
       "      <td>A</td>\n",
       "      <td>04/02/2019</td>\n",
       "      <td>04/23/2019</td>\n",
       "      <td>Cycle Inspection / Initial Inspection</td>\n",
       "      <td>36085</td>\n",
       "      <td>10.938462</td>\n",
       "    </tr>\n",
       "    <tr>\n",
       "      <th>4</th>\n",
       "      <td>5</td>\n",
       "      <td>5000900</td>\n",
       "      <td>Staten Island</td>\n",
       "      <td>I</td>\n",
       "      <td>000900</td>\n",
       "      <td>9</td>\n",
       "      <td>SI22</td>\n",
       "      <td>West New Brighton-New Brighton-St. George</td>\n",
       "      <td>3903</td>\n",
       "      <td>2.497010e+06</td>\n",
       "      <td>...</td>\n",
       "      <td>04L</td>\n",
       "      <td>Evidence of mice or live mice present in facil...</td>\n",
       "      <td>Critical</td>\n",
       "      <td>13.0</td>\n",
       "      <td>A</td>\n",
       "      <td>02/12/2019</td>\n",
       "      <td>04/23/2019</td>\n",
       "      <td>Cycle Inspection / Initial Inspection</td>\n",
       "      <td>36085</td>\n",
       "      <td>10.938462</td>\n",
       "    </tr>\n",
       "  </tbody>\n",
       "</table>\n",
       "<p>5 rows × 32 columns</p>\n",
       "</div>"
      ],
      "text/plain": [
       "  boro_code boro_ct201      boro_name cdeligibil  ct2010 ctlabel ntacode  \\\n",
       "0         5    5000900  Staten Island          I  000900       9    SI22   \n",
       "1         5    5000900  Staten Island          I  000900       9    SI22   \n",
       "2         5    5000900  Staten Island          I  000900       9    SI22   \n",
       "3         5    5000900  Staten Island          I  000900       9    SI22   \n",
       "4         5    5000900  Staten Island          I  000900       9    SI22   \n",
       "\n",
       "                                     ntaname  puma    shape_area    ...      \\\n",
       "0  West New Brighton-New Brighton-St. George  3903  2.497010e+06    ...       \n",
       "1  West New Brighton-New Brighton-St. George  3903  2.497010e+06    ...       \n",
       "2  West New Brighton-New Brighton-St. George  3903  2.497010e+06    ...       \n",
       "3  West New Brighton-New Brighton-St. George  3903  2.497010e+06    ...       \n",
       "4  West New Brighton-New Brighton-St. George  3903  2.497010e+06    ...       \n",
       "\n",
       "   VIOLATION CODE                              VIOLATION DESCRIPTION  \\\n",
       "0             02B        Hot food item not held at or above 140Âº F.   \n",
       "1             04L  Evidence of mice or live mice present in facil...   \n",
       "2             04L  Evidence of mice or live mice present in facil...   \n",
       "3             04L  Evidence of mice or live mice present in facil...   \n",
       "4             04L  Evidence of mice or live mice present in facil...   \n",
       "\n",
       "   CRITICAL FLAG SCORE GRADE  GRADE DATE RECORD DATE  \\\n",
       "0       Critical  12.0     A  02/12/2019  04/23/2019   \n",
       "1       Critical  18.0     B         NaN  04/23/2019   \n",
       "2       Critical  19.0     B  10/23/2018  04/23/2019   \n",
       "3       Critical  12.0     A  04/02/2019  04/23/2019   \n",
       "4       Critical  13.0     A  02/12/2019  04/23/2019   \n",
       "\n",
       "                         INSPECTION TYPE stateco  avg_score  \n",
       "0  Cycle Inspection / Initial Inspection   36085  10.938462  \n",
       "1  Cycle Inspection / Initial Inspection   36085  10.938462  \n",
       "2       Cycle Inspection / Re-inspection   36085  10.938462  \n",
       "3  Cycle Inspection / Initial Inspection   36085  10.938462  \n",
       "4  Cycle Inspection / Initial Inspection   36085  10.938462  \n",
       "\n",
       "[5 rows x 32 columns]"
      ]
     },
     "execution_count": 109,
     "metadata": {},
     "output_type": "execute_result"
    }
   ],
   "source": [
    "zip_score.head()"
   ]
  },
  {
   "cell_type": "code",
   "execution_count": null,
   "metadata": {},
   "outputs": [],
   "source": []
  }
 ],
 "metadata": {
  "kernelspec": {
   "display_name": "PUI2016_Python3",
   "language": "python",
   "name": "pui2016_python3"
  },
  "language_info": {
   "codemirror_mode": {
    "name": "ipython",
    "version": 3
   },
   "file_extension": ".py",
   "mimetype": "text/x-python",
   "name": "python",
   "nbconvert_exporter": "python",
   "pygments_lexer": "ipython3",
   "version": "3.5.4"
  }
 },
 "nbformat": 4,
 "nbformat_minor": 2
}
